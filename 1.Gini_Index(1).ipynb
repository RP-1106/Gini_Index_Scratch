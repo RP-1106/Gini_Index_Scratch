{
 "cells": [
  {
   "cell_type": "code",
   "execution_count": 1,
   "id": "22cbc60d",
   "metadata": {},
   "outputs": [],
   "source": [
    "import pandas as pd\n",
    "import numpy as np\n",
    "from math import *"
   ]
  },
  {
   "cell_type": "code",
   "execution_count": 2,
   "id": "aa4ec019",
   "metadata": {},
   "outputs": [],
   "source": [
    "df = pd.read_csv(r\"C:\\Users\\Rhea Pandita\\Desktop\\College-AinDs\\SEMESTER 4\\ML\\LAB\\EX-3\\1.classification.csv\")"
   ]
  },
  {
   "cell_type": "code",
   "execution_count": 3,
   "id": "b07dfaa2",
   "metadata": {},
   "outputs": [
    {
     "data": {
      "text/html": [
       "<div>\n",
       "<style scoped>\n",
       "    .dataframe tbody tr th:only-of-type {\n",
       "        vertical-align: middle;\n",
       "    }\n",
       "\n",
       "    .dataframe tbody tr th {\n",
       "        vertical-align: top;\n",
       "    }\n",
       "\n",
       "    .dataframe thead th {\n",
       "        text-align: right;\n",
       "    }\n",
       "</style>\n",
       "<table border=\"1\" class=\"dataframe\">\n",
       "  <thead>\n",
       "    <tr style=\"text-align: right;\">\n",
       "      <th></th>\n",
       "      <th>Age</th>\n",
       "      <th>EstimatedSalary</th>\n",
       "      <th>Purchased</th>\n",
       "    </tr>\n",
       "  </thead>\n",
       "  <tbody>\n",
       "    <tr>\n",
       "      <th>0</th>\n",
       "      <td>19</td>\n",
       "      <td>19000</td>\n",
       "      <td>0</td>\n",
       "    </tr>\n",
       "    <tr>\n",
       "      <th>1</th>\n",
       "      <td>35</td>\n",
       "      <td>20000</td>\n",
       "      <td>0</td>\n",
       "    </tr>\n",
       "    <tr>\n",
       "      <th>2</th>\n",
       "      <td>26</td>\n",
       "      <td>43000</td>\n",
       "      <td>0</td>\n",
       "    </tr>\n",
       "    <tr>\n",
       "      <th>3</th>\n",
       "      <td>27</td>\n",
       "      <td>57000</td>\n",
       "      <td>0</td>\n",
       "    </tr>\n",
       "    <tr>\n",
       "      <th>4</th>\n",
       "      <td>19</td>\n",
       "      <td>76000</td>\n",
       "      <td>0</td>\n",
       "    </tr>\n",
       "  </tbody>\n",
       "</table>\n",
       "</div>"
      ],
      "text/plain": [
       "   Age  EstimatedSalary  Purchased\n",
       "0   19            19000          0\n",
       "1   35            20000          0\n",
       "2   26            43000          0\n",
       "3   27            57000          0\n",
       "4   19            76000          0"
      ]
     },
     "execution_count": 3,
     "metadata": {},
     "output_type": "execute_result"
    }
   ],
   "source": [
    "df.head()"
   ]
  },
  {
   "cell_type": "code",
   "execution_count": 4,
   "id": "cf617022",
   "metadata": {},
   "outputs": [
    {
     "data": {
      "text/plain": [
       "400"
      ]
     },
     "execution_count": 4,
     "metadata": {},
     "output_type": "execute_result"
    }
   ],
   "source": [
    "len(df)"
   ]
  },
  {
   "cell_type": "code",
   "execution_count": 5,
   "id": "68d9b315",
   "metadata": {},
   "outputs": [],
   "source": [
    "df = df.dropna()"
   ]
  },
  {
   "cell_type": "code",
   "execution_count": 6,
   "id": "06b86df5",
   "metadata": {},
   "outputs": [],
   "source": [
    "df = df.drop_duplicates()"
   ]
  },
  {
   "cell_type": "code",
   "execution_count": 7,
   "id": "ae65c042",
   "metadata": {},
   "outputs": [
    {
     "data": {
      "text/html": [
       "<div>\n",
       "<style scoped>\n",
       "    .dataframe tbody tr th:only-of-type {\n",
       "        vertical-align: middle;\n",
       "    }\n",
       "\n",
       "    .dataframe tbody tr th {\n",
       "        vertical-align: top;\n",
       "    }\n",
       "\n",
       "    .dataframe thead th {\n",
       "        text-align: right;\n",
       "    }\n",
       "</style>\n",
       "<table border=\"1\" class=\"dataframe\">\n",
       "  <thead>\n",
       "    <tr style=\"text-align: right;\">\n",
       "      <th></th>\n",
       "      <th>Age</th>\n",
       "      <th>EstimatedSalary</th>\n",
       "      <th>Purchased</th>\n",
       "    </tr>\n",
       "  </thead>\n",
       "  <tbody>\n",
       "    <tr>\n",
       "      <th>0</th>\n",
       "      <td>19</td>\n",
       "      <td>19000</td>\n",
       "      <td>0</td>\n",
       "    </tr>\n",
       "    <tr>\n",
       "      <th>1</th>\n",
       "      <td>35</td>\n",
       "      <td>20000</td>\n",
       "      <td>0</td>\n",
       "    </tr>\n",
       "    <tr>\n",
       "      <th>2</th>\n",
       "      <td>26</td>\n",
       "      <td>43000</td>\n",
       "      <td>0</td>\n",
       "    </tr>\n",
       "    <tr>\n",
       "      <th>3</th>\n",
       "      <td>27</td>\n",
       "      <td>57000</td>\n",
       "      <td>0</td>\n",
       "    </tr>\n",
       "    <tr>\n",
       "      <th>4</th>\n",
       "      <td>19</td>\n",
       "      <td>76000</td>\n",
       "      <td>0</td>\n",
       "    </tr>\n",
       "  </tbody>\n",
       "</table>\n",
       "</div>"
      ],
      "text/plain": [
       "   Age  EstimatedSalary  Purchased\n",
       "0   19            19000          0\n",
       "1   35            20000          0\n",
       "2   26            43000          0\n",
       "3   27            57000          0\n",
       "4   19            76000          0"
      ]
     },
     "execution_count": 7,
     "metadata": {},
     "output_type": "execute_result"
    }
   ],
   "source": [
    "df.head()"
   ]
  },
  {
   "cell_type": "code",
   "execution_count": 8,
   "id": "d7ec59e5",
   "metadata": {},
   "outputs": [
    {
     "data": {
      "text/plain": [
       "367"
      ]
     },
     "execution_count": 8,
     "metadata": {},
     "output_type": "execute_result"
    }
   ],
   "source": [
    "len(df)"
   ]
  },
  {
   "cell_type": "code",
   "execution_count": 9,
   "id": "b9a5b6ed",
   "metadata": {},
   "outputs": [],
   "source": [
    "df['Age']=pd.cut(df['Age'],bins=[18,30,45,60],labels=['Youth','Midage','Adult'])\n",
    "df['Salary']=pd.cut(df['EstimatedSalary'],bins=3,labels=['Low','Average','High',])\n",
    "df = df.drop(['EstimatedSalary'],axis=1)"
   ]
  },
  {
   "cell_type": "code",
   "execution_count": 10,
   "id": "41ea8cbc",
   "metadata": {},
   "outputs": [
    {
     "data": {
      "text/html": [
       "<div>\n",
       "<style scoped>\n",
       "    .dataframe tbody tr th:only-of-type {\n",
       "        vertical-align: middle;\n",
       "    }\n",
       "\n",
       "    .dataframe tbody tr th {\n",
       "        vertical-align: top;\n",
       "    }\n",
       "\n",
       "    .dataframe thead th {\n",
       "        text-align: right;\n",
       "    }\n",
       "</style>\n",
       "<table border=\"1\" class=\"dataframe\">\n",
       "  <thead>\n",
       "    <tr style=\"text-align: right;\">\n",
       "      <th></th>\n",
       "      <th>Age</th>\n",
       "      <th>Purchased</th>\n",
       "      <th>Salary</th>\n",
       "    </tr>\n",
       "  </thead>\n",
       "  <tbody>\n",
       "    <tr>\n",
       "      <th>0</th>\n",
       "      <td>Youth</td>\n",
       "      <td>0</td>\n",
       "      <td>Low</td>\n",
       "    </tr>\n",
       "    <tr>\n",
       "      <th>1</th>\n",
       "      <td>Midage</td>\n",
       "      <td>0</td>\n",
       "      <td>Low</td>\n",
       "    </tr>\n",
       "    <tr>\n",
       "      <th>2</th>\n",
       "      <td>Youth</td>\n",
       "      <td>0</td>\n",
       "      <td>Low</td>\n",
       "    </tr>\n",
       "    <tr>\n",
       "      <th>3</th>\n",
       "      <td>Youth</td>\n",
       "      <td>0</td>\n",
       "      <td>Low</td>\n",
       "    </tr>\n",
       "    <tr>\n",
       "      <th>4</th>\n",
       "      <td>Youth</td>\n",
       "      <td>0</td>\n",
       "      <td>Average</td>\n",
       "    </tr>\n",
       "  </tbody>\n",
       "</table>\n",
       "</div>"
      ],
      "text/plain": [
       "      Age  Purchased   Salary\n",
       "0   Youth          0      Low\n",
       "1  Midage          0      Low\n",
       "2   Youth          0      Low\n",
       "3   Youth          0      Low\n",
       "4   Youth          0  Average"
      ]
     },
     "execution_count": 10,
     "metadata": {},
     "output_type": "execute_result"
    }
   ],
   "source": [
    "df.head()"
   ]
  },
  {
   "cell_type": "code",
   "execution_count": 11,
   "id": "1cded492",
   "metadata": {},
   "outputs": [],
   "source": [
    "df = df.dropna()"
   ]
  },
  {
   "cell_type": "code",
   "execution_count": 12,
   "id": "876ed474",
   "metadata": {},
   "outputs": [
    {
     "data": {
      "text/plain": [
       "362"
      ]
     },
     "execution_count": 12,
     "metadata": {},
     "output_type": "execute_result"
    }
   ],
   "source": [
    "len(df)"
   ]
  },
  {
   "cell_type": "code",
   "execution_count": 14,
   "id": "ce6585da",
   "metadata": {},
   "outputs": [],
   "source": [
    "def unique_values(data,col):\n",
    "        l=[]\n",
    "        for i in data[col]:\n",
    "            if i not in l:\n",
    "                l.append(i)\n",
    "        return l\n",
    "\n",
    "def conditional_len(data,col1,classes,value,c):\n",
    "    count=0\n",
    "    for i in zip(data[col1],data[classes]):\n",
    "        if (i[0]==value and i[1]==c):\n",
    "            count+=1\n",
    "    return count\n",
    "        \n",
    "'''classes\n",
    "C1 : purchased=0\n",
    "c2 : purchased=1 '''\n",
    "def gini_index(data,classes,col):\n",
    "    '''STEP 1 : Calculate probability of the classes'''\n",
    "    #class_len = count of no of 0 and 1 [or] count of c1 and count of c2\n",
    "    class_len = [data[classes].value_counts()[0],data[classes].value_counts()[1]]\n",
    "    \n",
    "    prob_C1 = data[classes].value_counts()[0] / len(data)\n",
    "    prob_C2 = data[classes].value_counts()[1] / len(data)\n",
    "    l1=[prob_C1,prob_C2]\n",
    "    \n",
    "    '''STEP 2: Calculate probability of the attributes of the class'''\n",
    "    attribute_len=[] #keep count of all attributes of one feature\n",
    "    l2=[] #list to keep probability of all attributes in one feature\n",
    "    l=unique_values(data,col)\n",
    "    for i in l:\n",
    "        attribute_len.append(data[col].value_counts()[i])\n",
    "        l2.append(data[col].value_counts()[i] / len(data))\n",
    "        \n",
    "    '''STEP 3: Calculate probability of each unique value given the class'''\n",
    "    cond_len_1 = [] #count of each attribute given C1\n",
    "    cond_len_2 = [] #count of each attribute given C2\n",
    "    cond_prob_1 = [] #cond prob of each attribute and C1\n",
    "    cond_prob_2 = [] #cond prob of each attribute and c2\n",
    "    \n",
    "    for i in l:\n",
    "        cond_len_1.append(conditional_len(data,col,classes,i,0))\n",
    "        cond_len_2.append(conditional_len(data,col,classes,i,1))\n",
    "    #print(cond_len_1)\n",
    "    #print(cond_len_2)\n",
    "    #NOTE : sum(cond_len_1)+sum(cond_len_2) = len(df)\n",
    "    \n",
    "    for i in zip(cond_len_1,attribute_len):\n",
    "        cond_prob_1.append(i[0]/i[1])\n",
    "        \n",
    "    for i in zip(cond_len_2,attribute_len):\n",
    "        cond_prob_2.append(i[0]/i[1])\n",
    "        \n",
    "    #print(cond_prob_1[0],cond_prob_2[0])   //P(Youth and C1)+P(Youth and C2)=1\n",
    "    #print(cond_prob_1[1],cond_prob_2[1])   //P(Mid and C1)+P(Mid and C2)=1\n",
    "    #print(cond_prob_1[2],cond_prob_2[2])   //P(Adult and C1)+P(Adult and C2)=1\n",
    "    \n",
    "    '''STEP 4 : Calculate Gini index of each attribute'''\n",
    "    gini_ind = []\n",
    "    gsum=0\n",
    "    for i in zip(cond_prob_1,cond_prob_2):\n",
    "        gsum = 1- (pow(i[0],2)+pow(i[1],2))\n",
    "        gini_ind.append(gsum)\n",
    "        \n",
    "    #Gini index of the feature\n",
    "    gini_index=0\n",
    "    for i in zip(l2,gini_ind):\n",
    "        gini_index += (i[0]*i[1])\n",
    "                   \n",
    "    print(\"gini index of column \",col,\" is : \",gini_index)\n",
    "    \n",
    "                         "
   ]
  },
  {
   "cell_type": "code",
   "execution_count": 15,
   "id": "32fc9125",
   "metadata": {},
   "outputs": [
    {
     "name": "stdout",
     "output_type": "stream",
     "text": [
      "gini index of column  Age  is :  0.2868129329618925\n"
     ]
    }
   ],
   "source": [
    "gini_index(df,'Purchased','Age')"
   ]
  },
  {
   "cell_type": "code",
   "execution_count": 16,
   "id": "38df5e3c",
   "metadata": {},
   "outputs": [
    {
     "name": "stdout",
     "output_type": "stream",
     "text": [
      "gini index of column  Salary  is :  0.38329681368355406\n"
     ]
    }
   ],
   "source": [
    "gini_index(df,'Purchased','Salary')"
   ]
  },
  {
   "cell_type": "markdown",
   "id": "905462d1",
   "metadata": {},
   "source": [
    "Since Gini_Index of Age column is lesser than that of Salary Column. Therefore, in the decision tree the root node should be the feature, Age."
   ]
  },
  {
   "cell_type": "code",
   "execution_count": null,
   "id": "23f53c27",
   "metadata": {},
   "outputs": [],
   "source": []
  }
 ],
 "metadata": {
  "kernelspec": {
   "display_name": "Python 3 (ipykernel)",
   "language": "python",
   "name": "python3"
  },
  "language_info": {
   "codemirror_mode": {
    "name": "ipython",
    "version": 3
   },
   "file_extension": ".py",
   "mimetype": "text/x-python",
   "name": "python",
   "nbconvert_exporter": "python",
   "pygments_lexer": "ipython3",
   "version": "3.9.7"
  }
 },
 "nbformat": 4,
 "nbformat_minor": 5
}
